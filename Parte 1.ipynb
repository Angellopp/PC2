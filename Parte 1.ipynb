{
 "cells": [
  {
   "cell_type": "code",
   "execution_count": null,
   "metadata": {},
   "outputs": [],
   "source": [
    "# 1.Escribe una función que acepte una cadena que contenga todas las letras del alfabeto excepto una y devuelva la letra que falta. \n",
    "# Por ejemplo, la cadena the quick brown box jumps over a lazy dog contiene todas las letras del alfabeto excepto la letra f. \n",
    "# La función debe tener una complejidad temporal de O(n). (1 punto)\n",
    "\n",
    "# 2. Un árbol binario ordenado es aquel en el que cada nodo tiene un valor y hasta 2 hijos, cada uno de los cuales es también un árbol binario ordenado, \n",
    "# y el valor de cualquier elemento del subárbol izquierdo de un nodo es menor que el valor de cualquier elemento en el subárbol derecho del nodo. \n",
    "# Defina una clase colección llamada BinaryTree que ofrezca los métodos de instancia << (insertar elemento), empty? (devuelve cierto si el árbol no tiene elementos) y each (el iterador estándar que devuelve un elemento cada vez, en el orden que tú quieras). (2 puntos)\n",
    "\n",
    "# 3. Extiende la clase de tu árbol binario ordenado para que ofrezca los siguientes métodos, cada uno de los cuales toma un bloque: include?(elt) \n",
    "# (devuelve cierto si el árbol incluye a elt), all? (cierto si un bloque dado es cierto para todos los elementos), any? \n",
    "# (cierto si un bloque dado es cierto para alguno de sus elementos), sort (ordena los elementos) (1 puntos)"
   ]
  },
  {
   "cell_type": "code",
   "execution_count": 31,
   "metadata": {},
   "outputs": [
    {
     "name": "stdout",
     "output_type": "stream",
     "text": [
      "La letra faltante es: f\n"
     ]
    }
   ],
   "source": [
    "def letra_faltante(str)\n",
    "    alfabeto = ('a'..'z').to_a\n",
    "    alfabeto.each do |c|\n",
    "      return c if !str.downcase.include?(c)\n",
    "    end\n",
    "end\n",
    "  \n",
    "cadena = \"the quick brown box jumps over a lazy dog\"\n",
    "letra_faltante = letra_faltante(cadena)\n",
    "puts \"La letra faltante es: #{letra_faltante}\""
   ]
  },
  {
   "cell_type": "markdown",
   "metadata": {},
   "source": [
    "### Primero guardamos el alfabeto en la variable alfabeto\n",
    "\n",
    "Aqui iteramos en cada letra del alfabeto y verifica si está la letra en minusculas esta en nuestro string en complejidad O(n)\n",
    "Luego probamos el ejemplo dado y verificamos"
   ]
  },
  {
   "cell_type": "markdown",
   "metadata": {},
   "source": []
  },
  {
   "cell_type": "code",
   "execution_count": 51,
   "metadata": {},
   "outputs": [
    {
     "data": {
      "text/plain": [
       ":sort"
      ]
     },
     "execution_count": 51,
     "metadata": {},
     "output_type": "execute_result"
    }
   ],
   "source": [
    "class BinaryTree\n",
    "  attr_accessor :valor, :izq, :der\n",
    "  def initialize(valor)\n",
    "    @root = nil\n",
    "  end\n",
    "\n",
    "  def empty?\n",
    "    return @root.nil?\n",
    "  end\n",
    "  \n",
    "  def <<(elemento)\n",
    "    if elemento < @valor\n",
    "      @izq ? @izq <<(elemento) : @izq = ArbolBinario.new(elemento)\n",
    "    else\n",
    "      @der ? @izq <<(elemento) : @der = ArbolBinario.new(elemento)\n",
    "    end\n",
    "  end\n",
    "  \n",
    "  def empty?\n",
    "    return @izq.nil? && @der.nil?\n",
    "  end\n",
    "\n",
    "  def each(&bloque)\n",
    "    if @izq\n",
    "      @izq.each(&bloque)\n",
    "    end\n",
    "    yield @valor\n",
    "    if @der\n",
    "      @der.each(&bloque)\n",
    "    end\n",
    "  end\n",
    "\n",
    "  def include?(elt)\n",
    "    if elt == @valor\n",
    "      return true\n",
    "    elsif elt < @valor && @izquierda\n",
    "      @izquierda.incluye?(elt)\n",
    "    elsif elt > @valor && @derecha\n",
    "      @derecha.incluye?(elt)\n",
    "    else\n",
    "      return false\n",
    "    end\n",
    "  end\n",
    "\n",
    "  def all?(&bloque)\n",
    "    self.each { |elt| \n",
    "      return false unless yield(elt)\n",
    "    }\n",
    "    true\n",
    "  end\n",
    "\n",
    "  def any?(&bloque)\n",
    "    self.each {|elt| \n",
    "      return true if yield(elt)\n",
    "    }\n",
    "    false\n",
    "  end\n",
    "\n",
    "  def sort\n",
    "    to_a.sort\n",
    "  end\n",
    "end\n",
    "\n"
   ]
  },
  {
   "cell_type": "markdown",
   "metadata": {},
   "source": [
    "## Definición de la clase BinaryTree:\n",
    "\n",
    "## Se define la clase BinaryTree.\n",
    "Se establece un atributo de instancia @root que se inicializa como nil. Este variable de instancia se utilizará para representar la raíz del árbol.\n",
    "## Método empty?:\n",
    "\n",
    "El método empty? verifica si el árbol está vacío, es decir, si la raíz (@root) es nil. Devuelve true si el árbol está vacío, de lo contrario, devuelve false.\n",
    "## Sobrecarga del operador <<:\n",
    "\n",
    "El método << permite insertar elementos en el árbol binario.\n",
    "Compara el valor del elemento a insertar con el valor actual del nodo (@valor).\n",
    "Si el elemento es menor que @valor, se verifica si existe un subárbol izquierdo (@izq). Si existe, se llama recursivamente a << en el subárbol izquierdo. Si no existe un subárbol izquierdo, se crea uno y se inserta el elemento. Igualmente para el suarbol derecho.\n",
    "\n",
    "## operador empty? (de nuevo):\n",
    "\n",
    "Este método verifica si el nodo actual no tiene hijos (@izq y @der son nil).\n",
    "Devuelve true si el nodo actual no tiene hijos (es decir, si es una hoja), de lo contrario, devuelve false.\n",
    "## Método each:\n",
    "\n",
    "El método each es un iterador que permite recorrer los elementos del árbol en un orden específico (en este caso, inorden, que es un recorrido en el que se visitan primero los nodos del subárbol izquierdo, luego el nodo actual y finalmente los nodos del subárbol derecho).\n",
    "\n",
    "## Método include?:\n",
    "El método include? verifica si un elemento (elt) está presente en el árbol.\n",
    "Comienza comparando elt con el valor del nodo actual (@valor).\n",
    "Si son iguales, devuelve true, indicando que el elemento está presente.\n",
    "Si elt es menor que @valor, se verifica si existe un subárbol izquierdo (@izquierda) y se llama  a include? en ese subárbol.\n",
    "Si elt es mayor que @valor, se verifica si existe un subárbol derecho (@derecha) y se llama  a include? en ese subárbol.\n",
    "Si no se encuentra el elemento en ningún lugar, se devuelve false.\n",
    "## Método all?:\n",
    "\n",
    "El método all? verifica si un bloque dado (&bloque) es verdadero para todos los elementos del árbol.\n",
    "Si el bloque retorna falso para al menos uno de los elementos, all? devuelve falso. De lo contrario, devuelve verdadero.\n",
    "\n",
    "## Método any?:\n",
    "\n",
    "El método any? verifica si un bloque dado (&bloque) es verdadero para al menos uno de los elementos del árbol.\n",
    "Si el bloque retorna verdadero para al menos uno de los elementos, any? devuelve verdadero. De lo contrario, devuelve falso.\n",
    "\n",
    "## Método sort:\n",
    "\n",
    "El método sort devuelve un arreglo con todos los elementos del árbol ordenados de menor a mayor. Utiliza el método to_a para obtener todos los elementos y luego llama al método sort en ese arreglo.\n"
   ]
  }
 ],
 "metadata": {
  "kernelspec": {
   "display_name": "Ruby 3.2.2",
   "language": "ruby",
   "name": "ruby"
  },
  "language_info": {
   "file_extension": ".rb",
   "mimetype": "application/x-ruby",
   "name": "ruby",
   "version": "3.2.2"
  },
  "orig_nbformat": 4
 },
 "nbformat": 4,
 "nbformat_minor": 2
}
