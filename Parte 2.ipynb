{
 "cells": [
  {
   "cell_type": "markdown",
   "metadata": {},
   "source": [
    "La parte 2 ya esta implementada en la parte 3"
   ]
  },
  {
   "cell_type": "markdown",
   "metadata": {},
   "source": [
    "### Aqui redirigimos con redirect_to movie_url(@movie)\n"
   ]
  },
  {
   "cell_type": "markdown",
   "metadata": {},
   "source": [
    "def create\n",
    "    @movie = Movie.new(movie_params)\n",
    "\n",
    "    respond_to do |format|\n",
    "      if @movie.save\n",
    "        format.html { redirect_to movie_url(@movie), notice: \"Movie was successfully created.\" }\n",
    "        format.json { render :show, status: :created, location: @movie }\n",
    "      else\n",
    "        format.html { render :new, status: :unprocessable_entity }\n",
    "        format.json { render json: @movie.errors, status: :unprocessable_entity }\n",
    "      end\n",
    "    end\n",
    "  end"
   ]
  },
  {
   "cell_type": "markdown",
   "metadata": {},
   "source": [
    "### Para esta parte de modificar el campo descripcion: añadimos el campo :description en el archivo movies_controller"
   ]
  },
  {
   "cell_type": "markdown",
   "metadata": {},
   "source": [
    "def movie_params\n",
    "      params.require(:movie).permit(:title, :rating, :description, :release_date)\n",
    "    end"
   ]
  },
  {
   "cell_type": "markdown",
   "metadata": {},
   "source": [
    "### Aqui añadimos el siguiente codigo para que se pueda editar la descripcion, con un bloque estilo display en el archivo _form.html.erb, y solo necesitamos modificar este debido a que edit y new llaman a la vista _form.html.erb: <%= render \"form\", movie: @movie %>"
   ]
  },
  {
   "cell_type": "markdown",
   "metadata": {},
   "source": [
    "<div>\n",
    "    <%= form.label :description, style: \"display: block\" %>\n",
    "    <%= form.text_field :description %>\n",
    "  </div>"
   ]
  },
  {
   "cell_type": "markdown",
   "metadata": {},
   "source": [
    "### Para la parte de la robustesa del codigo, insertamos el manejo de errores en el metodo show:"
   ]
  },
  {
   "cell_type": "markdown",
   "metadata": {},
   "source": [
    "def show\n",
    "    begin\n",
    "      @movie = Movie.find(params[:id])\n",
    "    rescue ActiveRecord::RecordNotFound\n",
    "      redirect_to movies_url, notice: \"No existe ninguna película con ese ID\" \n",
    "    end\n",
    "  end"
   ]
  },
  {
   "cell_type": "markdown",
   "metadata": {},
   "source": [
    "### Si al buscar el parametro obtenemos un error : RecordNotFound, nos dirigimos a movies_url con redirect_to\n",
    "redirect_to movies_url\n",
    "### Y alertamos al usuario\n",
    " notice: \"No existe ninguna película con ese ID\" \n"
   ]
  }
 ],
 "metadata": {
  "kernelspec": {
   "display_name": "Ruby 3.2.2",
   "language": "ruby",
   "name": "ruby"
  },
  "language_info": {
   "file_extension": ".rb",
   "mimetype": "application/x-ruby",
   "name": "ruby",
   "version": "3.2.2"
  },
  "orig_nbformat": 4
 },
 "nbformat": 4,
 "nbformat_minor": 2
}
